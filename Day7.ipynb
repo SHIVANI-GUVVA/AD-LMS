{
  "nbformat": 4,
  "nbformat_minor": 0,
  "metadata": {
    "colab": {
      "provenance": []
    },
    "kernelspec": {
      "name": "python3",
      "display_name": "Python 3"
    },
    "language_info": {
      "name": "python"
    }
  },
  "cells": [
    {
      "cell_type": "code",
      "execution_count": 1,
      "metadata": {
        "colab": {
          "base_uri": "https://localhost:8080/"
        },
        "id": "XZoq4dn10YHI",
        "outputId": "03421d25-9ea0-42d0-ff2b-a4402c7460a3"
      },
      "outputs": [
        {
          "output_type": "stream",
          "name": "stderr",
          "text": [
            "[nltk_data] Downloading package stopwords to /root/nltk_data...\n",
            "[nltk_data]   Unzipping corpora/stopwords.zip.\n"
          ]
        },
        {
          "output_type": "stream",
          "name": "stdout",
          "text": [
            "Original Text:\n",
            "\n",
            "Natural Language Processing is a fascinating field of artificial intelligence. \n",
            "It enables machines to understand and process human language in meaningful ways.\n",
            "\n",
            "\n",
            "Lowercased Text (Tokenized):\n",
            "['\\n', 'natural', 'language', 'processing', 'is', 'a', 'fascinating', 'field', 'of', 'artificial', 'intelligence', '.', '\\n', 'it', 'enables', 'machines', 'to', 'understand', 'and', 'process', 'human', 'language', 'in', 'meaningful', 'ways', '.', '\\n']\n",
            "\n",
            "Filtered Tokens (Without Stopwords):\n",
            "['natural', 'language', 'processing', 'fascinating', 'field', 'artificial', 'intelligence', 'enables', 'machines', 'understand', 'process', 'human', 'language', 'meaningful', 'ways']\n"
          ]
        }
      ],
      "source": [
        "# Import libraries\n",
        "import nltk\n",
        "from nltk.corpus import stopwords\n",
        "import spacy\n",
        "\n",
        "# Download NLTK stopwords\n",
        "nltk.download('stopwords')\n",
        "\n",
        "# Load English stopwords from NLTK\n",
        "nltk_stopwords = set(stopwords.words('english'))\n",
        "\n",
        "# Load spaCy English model\n",
        "nlp = spacy.load(\"en_core_web_sm\")\n",
        "\n",
        "# Sample text\n",
        "text = \"\"\"\n",
        "Natural Language Processing is a fascinating field of artificial intelligence.\n",
        "It enables machines to understand and process human language in meaningful ways.\n",
        "\"\"\"\n",
        "\n",
        "# Convert text to lowercase using spaCy\n",
        "doc = nlp(text.lower())  # Convert text to lowercase\n",
        "tokens = [token.text for token in doc]  # Tokenize text\n",
        "\n",
        "# Remove stopwords using NLTK\n",
        "filtered_tokens = [word for word in tokens if word not in nltk_stopwords and word.isalpha()]  # Exclude non-alphabetic words\n",
        "\n",
        "# Print results\n",
        "print(\"Original Text:\")\n",
        "print(text)\n",
        "\n",
        "print(\"\\nLowercased Text (Tokenized):\")\n",
        "print(tokens)\n",
        "\n",
        "print(\"\\nFiltered Tokens (Without Stopwords):\")\n",
        "print(filtered_tokens)\n"
      ]
    },
    {
      "cell_type": "code",
      "source": [],
      "metadata": {
        "id": "Pr0j-zld0iTQ"
      },
      "execution_count": null,
      "outputs": []
    }
  ]
}