{
  "nbformat": 4,
  "nbformat_minor": 0,
  "metadata": {
    "colab": {
      "provenance": []
    },
    "kernelspec": {
      "name": "python3",
      "display_name": "Python 3"
    },
    "language_info": {
      "name": "python"
    }
  },
  "cells": [
    {
      "cell_type": "code",
      "execution_count": 1,
      "metadata": {
        "id": "NFaz4HQ8Aqdw",
        "outputId": "8bf8505a-02c4-43ac-9cf6-a638cb72b27e",
        "colab": {
          "base_uri": "https://localhost:8080/"
        }
      },
      "outputs": [
        {
          "output_type": "stream",
          "name": "stdout",
          "text": [
            "to: 2\n",
            "be: 2\n",
            "or: 1\n",
            "not: 1\n",
            "that: 1\n",
            "is: 1\n",
            "the: 1\n",
            "question: 1\n"
          ]
        }
      ],
      "source": [
        "def word_frequency(text):\n",
        "    text = ''.join([char.lower() if char.isalnum() or char.isspace() else ' ' for char in text])\n",
        "\n",
        "    words = text.split()\n",
        "    frequency = {}\n",
        "\n",
        "    for word in words:\n",
        "        if word in frequency:\n",
        "            frequency[word] += 1\n",
        "        else:\n",
        "            frequency[word] = 1\n",
        "\n",
        "    for word, count in frequency.items():\n",
        "        print(f\"{word}: {count}\")\n",
        "\n",
        "sample_text = \"To be or not to be, that is the question.\"\n",
        "word_frequency(sample_text)"
      ]
    },
    {
      "cell_type": "code",
      "source": [],
      "metadata": {
        "id": "IKpVdg_lArmU"
      },
      "execution_count": null,
      "outputs": []
    }
  ]
}