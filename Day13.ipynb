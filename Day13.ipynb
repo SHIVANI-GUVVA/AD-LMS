{
  "nbformat": 4,
  "nbformat_minor": 0,
  "metadata": {
    "colab": {
      "provenance": []
    },
    "kernelspec": {
      "name": "python3",
      "display_name": "Python 3"
    },
    "language_info": {
      "name": "python"
    }
  },
  "cells": [
    {
      "cell_type": "code",
      "execution_count": 1,
      "metadata": {
        "colab": {
          "base_uri": "https://localhost:8080/"
        },
        "id": "CXRz6ZZr4Wzx",
        "outputId": "f675267f-0976-402c-d084-65319cb4f922"
      },
      "outputs": [
        {
          "output_type": "stream",
          "name": "stdout",
          "text": [
            "Original Text: Hello, World! Welcome to NLP 101.\n",
            "Cleaned Text: hello world welcome to nlp 101\n"
          ]
        }
      ],
      "source": [
        "import re\n",
        "\n",
        "def clean_text(text):\n",
        "    \"\"\"\n",
        "    Cleans the input text by removing special characters and converting it to lowercase.\n",
        "\n",
        "    Args:\n",
        "        text (str): Input text to be cleaned.\n",
        "\n",
        "    Returns:\n",
        "        str: Cleaned text.\n",
        "    \"\"\"\n",
        "    # Remove special characters using regex and convert to lowercase\n",
        "    cleaned_text = re.sub(r'[^a-zA-Z0-9\\s]', '', text).lower()\n",
        "    return cleaned_text\n",
        "\n",
        "# Test the function\n",
        "input_text = 'Hello, World! Welcome to NLP 101.'\n",
        "cleaned = clean_text(input_text)\n",
        "print(\"Original Text:\", input_text)\n",
        "print(\"Cleaned Text:\", cleaned)\n"
      ]
    },
    {
      "cell_type": "code",
      "source": [],
      "metadata": {
        "id": "ONCe4hWN4oEf"
      },
      "execution_count": null,
      "outputs": []
    }
  ]
}