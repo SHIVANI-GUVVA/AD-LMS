{
  "nbformat": 4,
  "nbformat_minor": 0,
  "metadata": {
    "colab": {
      "provenance": []
    },
    "kernelspec": {
      "name": "python3",
      "display_name": "Python 3"
    },
    "language_info": {
      "name": "python"
    }
  },
  "cells": [
    {
      "cell_type": "code",
      "execution_count": 3,
      "metadata": {
        "colab": {
          "base_uri": "https://localhost:8080/"
        },
        "id": "ifwgEWLgXE-Y",
        "outputId": "00b490fc-4e15-48f0-ec71-e92b8d9759e5"
      },
      "outputs": [
        {
          "output_type": "stream",
          "name": "stdout",
          "text": [
            "Sentences:\n",
            "1: Natural Language Processing (NLP) is a fascinating field of Artificial Intelligence.\n",
            "2: It focuses on the interaction between humans and computers using natural language.\n",
            "3: Tokenization is one of the fundamental steps in NLP, where text is broken down into sentences or words.\n",
            "\n",
            "\n",
            "Words:\n",
            "['Natural', 'Language', 'Processing', '(', 'NLP', ')', 'is', 'a', 'fascinating', 'field', 'of', 'Artificial', 'Intelligence', '.', 'It', 'focuses', 'on', 'the', 'interaction', 'between', 'humans', 'and', 'computers', 'using', 'natural', 'language', '.', 'Tokenization', 'is', 'one', 'of', 'the', 'fundamental', 'steps', 'in', 'NLP', ',', 'where', 'text', 'is', 'broken', 'down', 'into', 'sentences', 'or', 'words', '.']\n",
            "\n",
            "\n",
            "Cleaned Text:\n",
            "hello world welcome to nlp 101\n",
            "\n",
            "\n",
            "Extracted Emails:\n",
            "['support@example.com', 'sales@example.org']\n"
          ]
        },
        {
          "output_type": "stream",
          "name": "stderr",
          "text": [
            "[nltk_data] Downloading package punkt to /root/nltk_data...\n",
            "[nltk_data]   Package punkt is already up-to-date!\n"
          ]
        }
      ],
      "source": [
        "import nltk\n",
        "from nltk.tokenize import word_tokenize, sent_tokenize\n",
        "import re\n",
        "\n",
        "nltk.download('punkt')\n",
        "\n",
        "sample_paragraph = (\n",
        "    \"Natural Language Processing (NLP) is a fascinating field of Artificial Intelligence. \"\n",
        "    \"It focuses on the interaction between humans and computers using natural language. \"\n",
        "    \"Tokenization is one of the fundamental steps in NLP, where text is broken down into sentences or words.\"\n",
        ")\n",
        "\n",
        "def tokenize_sentences(paragraph):\n",
        "    return sent_tokenize(paragraph)\n",
        "\n",
        "def tokenize_words(paragraph):\n",
        "    return word_tokenize(paragraph)\n",
        "\n",
        "def clean_text(text):\n",
        "    \"\"\"Remove special characters and convert text to lowercase.\"\"\"\n",
        "    text = text.lower()\n",
        "    text = re.sub(r'[^a-zA-Z0-9\\s]', '', text)\n",
        "    return text\n",
        "\n",
        "def extract_emails(text):\n",
        "    \"\"\"Extract all email addresses from the given text.\"\"\"\n",
        "    email_pattern = r'[\\w\\.-]+@[\\w\\.-]+\\.\\w{2,}'\n",
        "    return re.findall(email_pattern, text)\n",
        "\n",
        "if __name__ == \"__main__\":\n",
        "    sentences = tokenize_sentences(sample_paragraph)\n",
        "    print(\"Sentences:\")\n",
        "    for idx, sentence in enumerate(sentences, 1):\n",
        "        print(f\"{idx}: {sentence}\")\n",
        "\n",
        "    print(\"\\n\")\n",
        "\n",
        "    words = tokenize_words(sample_paragraph)\n",
        "    print(\"Words:\")\n",
        "    print(words)\n",
        "\n",
        "    print(\"\\n\")\n",
        "\n",
        "    test_text = 'Hello, World! Welcome to NLP 101.'\n",
        "    cleaned_text = clean_text(test_text)\n",
        "    print(\"Cleaned Text:\")\n",
        "    print(cleaned_text)\n",
        "\n",
        "    print(\"\\n\")\n",
        "\n",
        "    email_text = 'Contact us at support@example.com and sales@example.org.'\n",
        "    emails = extract_emails(email_text)\n",
        "    print(\"Extracted Emails:\")\n",
        "    print(emails)\n"
      ]
    },
    {
      "cell_type": "code",
      "source": [
        "import nltk\n",
        "from nltk.tokenize import word_tokenize, sent_tokenize\n",
        "import re\n",
        "\n",
        "# Download the 'punkt_tab' data package\n",
        "nltk.download('punkt_tab')\n",
        "\n",
        "# ... (rest of your code) ..."
      ],
      "metadata": {
        "colab": {
          "base_uri": "https://localhost:8080/"
        },
        "id": "VVa1DJ_9Xatj",
        "outputId": "7d98da03-04ff-4a82-a52f-1a5425af4135"
      },
      "execution_count": 2,
      "outputs": [
        {
          "output_type": "stream",
          "name": "stderr",
          "text": [
            "[nltk_data] Downloading package punkt_tab to /root/nltk_data...\n",
            "[nltk_data]   Unzipping tokenizers/punkt_tab.zip.\n"
          ]
        },
        {
          "output_type": "execute_result",
          "data": {
            "text/plain": [
              "True"
            ]
          },
          "metadata": {},
          "execution_count": 2
        }
      ]
    },
    {
      "cell_type": "code",
      "source": [],
      "metadata": {
        "id": "jJJZWm3IXx4F"
      },
      "execution_count": null,
      "outputs": []
    }
  ]
}