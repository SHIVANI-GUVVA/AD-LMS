{
  "nbformat": 4,
  "nbformat_minor": 0,
  "metadata": {
    "colab": {
      "provenance": []
    },
    "kernelspec": {
      "name": "python3",
      "display_name": "Python 3"
    },
    "language_info": {
      "name": "python"
    }
  },
  "cells": [
    {
      "cell_type": "code",
      "execution_count": 1,
      "metadata": {
        "colab": {
          "base_uri": "https://localhost:8080/"
        },
        "id": "0TADVd9ovL--",
        "outputId": "44ce696a-4b83-43a0-d413-f0fbb93ecdf6"
      },
      "outputs": [
        {
          "output_type": "stream",
          "name": "stdout",
          "text": [
            "Token\tPOS Tag\n",
            "--------------------\n",
            "NLP\tPROPN\n",
            "is\tAUX\n",
            "amazing\tADJ\n",
            "and\tCCONJ\n",
            "fun\tADJ\n",
            "to\tPART\n",
            "learn\tVERB\n",
            ".\tPUNCT\n"
          ]
        }
      ],
      "source": [
        "import spacy\n",
        "\n",
        "def pos_tagging(sentence):\n",
        "    nlp = spacy.load(\"en_core_web_sm\")\n",
        "\n",
        "    doc = nlp(sentence)\n",
        "\n",
        "    print(\"Token\\tPOS Tag\")\n",
        "    print(\"-\" * 20)\n",
        "    for token in doc:\n",
        "        print(f\"{token.text}\\t{token.pos_}\")\n",
        "\n",
        "sentence = 'NLP is amazing and fun to learn.'\n",
        "\n",
        "pos_tagging(sentence)\n"
      ]
    },
    {
      "cell_type": "code",
      "source": [],
      "metadata": {
        "id": "v_ixuo-2vM-S"
      },
      "execution_count": null,
      "outputs": []
    }
  ]
}